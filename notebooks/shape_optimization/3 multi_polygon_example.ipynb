{
 "cells": [
  {
   "cell_type": "markdown",
   "metadata": {},
   "source": [
    "One of the features of lumopt GL is the streamlined handling of multipolygon optimization.\n",
    "\n",
    "Combining Polygons creates a Geometry. A Geometry is defined by an operation. LumoptGL supports 3 operations.\n",
    "\n",
    "Add: Use this when two or more polygons all have unique/independent parameters. (special method +)\n",
    "Mul: Use this when two or more polygons all share the same parameters (special method *)\n",
    "Merge: Use this when two or more polygons share some parameters but not others. A little bit more complicated to use as it expects a mapping."
   ]
  },
  {
   "cell_type": "code",
   "execution_count": 1,
   "metadata": {},
   "outputs": [],
   "source": [
    "from config import Config\n",
    "import os, sys\n",
    "sys.path.append(Config.LUMERICAL_API_PATH) # if this fails adjust the config.py and add the lumerical api path\n",
    "root_path = Config.ROOT_DIR\n",
    "result_path = Config.RESULTS_PATH"
   ]
  },
  {
   "cell_type": "code",
   "execution_count": 2,
   "metadata": {},
   "outputs": [
    {
     "name": "stdout",
     "output_type": "stream",
     "text": [
      "CONFIGURATION FILE {'root': 'C:\\\\Program Files/Lumerical/v232/api/python', 'lumapi': 'C:/Program Files/Lumerical/v232/api/python'}\n"
     ]
    }
   ],
   "source": [
    "import numpy as np\n",
    "import scipy as sp\n",
    "\n",
    "import lumapi\n",
    "from lumopt.utilities.wavelengths import Wavelengths\n",
    "import lumopt.utilities.wavelengths as w1\n",
    "from lumopt.geometries.polygon import FunctionDefinedPolygon\n",
    "from lumopt.utilities.materials import Material\n",
    "from lumopt.figures_of_merit.modematch import ModeMatch\n",
    "from lumopt.optimizers.generic_optimizers import ScipyOptimizers\n",
    "from lumopt.optimization import Optimization\n",
    "from lumopt.geometries.polygon import FunctionDefinedPolygon\n",
    "from lumopt.geometries.geometry import Geometry\n",
    "from lumopt_gl.geometries.polygon_gl import FunctionDefinedPolygon_GL\n",
    "from lumopt_gl.geometries.geometry_gl import Geometry_GL\n",
    "from lumopt_gl.optimizers.optimizer_gl import OptimizerGL\n",
    "from lumopt_gl.optimization import OptimizationGL"
   ]
  },
  {
   "cell_type": "markdown",
   "metadata": {},
   "source": [
    "In this example we will keep things simple. A 1 um taper from 350 to 750 nm is then followed by a 1 um taper back to 350 nm. \n",
    "\n",
    "Obviously this is just to understand ADD and MUL conceptually.\n",
    "\n",
    "For practical applications, please see the SWG geometries in the geometry folder."
   ]
  },
  {
   "cell_type": "markdown",
   "metadata": {},
   "source": [
    "Once again, we start by creating the base script. We can use the base_script function from the geometries folder to generate this basescript with our unique arguments for a taper. Poly_wg = True prevents the base script from creating input and output waveguides. "
   ]
  },
  {
   "cell_type": "code",
   "execution_count": 3,
   "metadata": {},
   "outputs": [],
   "source": [
    "from geometries.taper import taper_base_script\n",
    "start_y = 0.175e-6\n",
    "stop_y = 0.175e-6 # 350 nm to 350 nm output wg.\n",
    "start_x = -1e-6\n",
    "stop_x = 1e-6\n",
    "\n",
    "base_script = taper_base_script(dimension = 2, start_y = start_y, stop_y = stop_y, start_x = start_x, stop_x = stop_x, poly_wg = True) # length 2um, width = 350 to 750 nm"
   ]
  },
  {
   "cell_type": "code",
   "execution_count": 4,
   "metadata": {},
   "outputs": [],
   "source": [
    "eps_in = Material(name = 'Si: non-dispersive')\n",
    "eps_out = Material(name = 'SiO2: non-dispersive')"
   ]
  },
  {
   "cell_type": "markdown",
   "metadata": {},
   "source": [
    "We can create the input and output waveguides as function defined polygons instead. Polygons do not need to have parameters. "
   ]
  },
  {
   "cell_type": "code",
   "execution_count": 5,
   "metadata": {},
   "outputs": [],
   "source": [
    "def input_wg(params = None):\n",
    "    return np.array([(start_x-2e-6, start_y), (start_x-2e-6, -start_y), (start_x, -start_y), (start_x, start_y)])\n",
    "def output_wg(params=None):\n",
    "    return np.array([(stop_x + 2e-6, stop_y), (stop_x, stop_y), (stop_x, -stop_y), (stop_x + 2e-6, -stop_y)])\n",
    "\n",
    "input_wg_poly = FunctionDefinedPolygon_GL(func=input_wg, initial_params=np.empty(0), bounds=np.empty((0, 2)), z=0.0, depth=220e-9, eps_out=eps_out, eps_in=eps_in)\n",
    "output_wg_poly = FunctionDefinedPolygon_GL(func=output_wg, initial_params=np.empty(0), bounds=np.empty((0, 2)), z=0.0, depth=220e-9, eps_out=eps_out, eps_in=eps_in)"
   ]
  },
  {
   "cell_type": "markdown",
   "metadata": {},
   "source": [
    "Now we'll make the two tapers."
   ]
  },
  {
   "cell_type": "code",
   "execution_count": 6,
   "metadata": {},
   "outputs": [],
   "source": [
    "initial_points_x = np.linspace(start_x, 0, 7) # only go halfway. the symmetrical taper will reflect across the y axis and continue to stop_x\n",
    "initial_points_y = np.linspace(start_y, 0.375e-6, 7)\n",
    "\n",
    "init_params_y = initial_points_y[1:-1]\n",
    "\n",
    "def taper(params = init_params_y):\n",
    "    ''' Defines a taper where the paramaters are the y coordinates of the nodes of a cubic spline. '''\n",
    "    points_x = np.concatenate(([initial_points_x.min()], initial_points_x[1:-1], [initial_points_x.max()]))\n",
    "    points_y = np.concatenate(([initial_points_y[0]], params, [initial_points_y[-1]]))\n",
    "    \n",
    "    polygon_points_x = np.linspace(min(points_x), max(points_x), 100)\n",
    "    interpolator = sp.interpolate.interp1d(points_x, points_y, kind = 'cubic')\n",
    "    polygon_points_y = interpolator(polygon_points_x)\n",
    "    \n",
    "    polygon_points_up = [(x, y) for x, y in zip(polygon_points_x, polygon_points_y)]\n",
    "    polygon_points_down = [(x, -y) for x, y in zip(polygon_points_x, polygon_points_y)]\n",
    "    polygon_points = np.array(polygon_points_up[::-1] + polygon_points_down)\n",
    "    return polygon_points\n",
    "\n",
    "def symmetrical_taper(params = init_params_y):\n",
    "    polygon_points = taper(params)\n",
    "    reflected_points = [(-x, y) for x, y in polygon_points]\n",
    "    # Reverse the list to maintain CCW orientation\n",
    "    reflected_points.reverse()\n",
    "    return np.array(reflected_points)\n",
    "\n",
    "bounds = [(0.2e-6,0.8e-6)] * len(init_params_y)\n",
    "\n",
    "depth = 220.0e-9\n",
    "taper_polygon = FunctionDefinedPolygon_GL(func = taper, initial_params = init_params_y, bounds = bounds, z = 0.0,depth = depth,eps_out = eps_out, eps_in = eps_in, dx = 2e-9)\n",
    "taper_polygon_symmetry = FunctionDefinedPolygon_GL(func = symmetrical_taper, initial_params = init_params_y, bounds = bounds, z = 0.0,depth = depth,eps_out = eps_out, eps_in = eps_in, dx = 2e-9)"
   ]
  },
  {
   "cell_type": "markdown",
   "metadata": {},
   "source": [
    " Since they are symmetrical, they share the same parameters. Therefore these two polygons will be joined to one geometry with the MUL operation."
   ]
  },
  {
   "cell_type": "code",
   "execution_count": null,
   "metadata": {},
   "outputs": [],
   "source": [
    "taper_geo = Geometry_GL([taper_polygon, taper_polygon_symmetry], 'mul')"
   ]
  },
  {
   "cell_type": "markdown",
   "metadata": {},
   "source": [
    "We will now add the two waveguides to this geo. Technically, those have no parameters, but we will still use add."
   ]
  },
  {
   "cell_type": "code",
   "execution_count": null,
   "metadata": {},
   "outputs": [],
   "source": [
    "geometry = Geometry_GL([taper_geo, input_wg_poly, output_wg_poly], 'add')"
   ]
  },
  {
   "cell_type": "markdown",
   "metadata": {},
   "source": [
    "Define the same optimizer as before, then run"
   ]
  },
  {
   "cell_type": "code",
   "execution_count": null,
   "metadata": {},
   "outputs": [],
   "source": [
    "\n",
    "def optimizer3D(polygon, base_script, max_iter = 40):\n",
    "    wavelengths = Wavelengths(start = 1500e-9, stop = 1600e-9, points = 11)\n",
    "\n",
    "    fom = ModeMatch(monitor_name = 'fom',mode_number = 'fundamental TE mode', direction = 'Forward', \n",
    "                    target_T_fwd = lambda wl: np.ones(wl.size), norm_p = 1) # for 3D, we need to specify TE/TM\n",
    "\n",
    "    optimizer = OptimizerGL(max_iter = max_iter, ftol = 1.0e-5, method = 'LD_MMA')\n",
    "\n",
    "    opt = OptimizationGL(base_script=base_script, wavelengths = wavelengths, fom = fom, geometry = polygon, optimizer = optimizer, \n",
    "                       use_var_fdtd=False, store_all_simulations = False, GPU = True) # and set varFDTD to False. Set GPU to True if you have one.\n",
    "    return opt"
   ]
  },
  {
   "cell_type": "code",
   "execution_count": null,
   "metadata": {},
   "outputs": [],
   "source": [
    "opt = optimizer3D(geometry, base_script)\n",
    "opt.run()"
   ]
  },
  {
   "cell_type": "markdown",
   "metadata": {},
   "source": [
    "This time we'll use add to form the geometry from the two tapers."
   ]
  },
  {
   "cell_type": "code",
   "execution_count": null,
   "metadata": {},
   "outputs": [],
   "source": [
    "from geometries.taper import taper_base_script\n",
    "stop_y = 0.350e-6 # 350 nm to 350 nm output wg.\n",
    "base_script = taper_base_script(dimension = 3, start_y = start_y, stop_y = stop_y, start_x = start_x, stop_x = stop_x) # length 2um, width = 350 to 750 nm"
   ]
  },
  {
   "cell_type": "code",
   "execution_count": null,
   "metadata": {},
   "outputs": [],
   "source": [
    "initial_points_x = np.linspace(start_x, 0, 7) # only go halfway. the symmetrical taper will reflect across the y axis and continue to stop_x\n",
    "initial_points_y = np.linspace(start_y, 0.25e-6, 7)\n",
    "initial_points_y2 = np.linspace(0.25e-6, 0.35e-6, 7)\n",
    "initial_points_x2 = np.linspace(0, stop_x, 7) # only go halfway. the symmetrical taper will reflect across the y axis and continue to stop_x\n",
    "\n",
    "init_params_y = initial_points_y[1:-1]\n",
    "init_params_y2 = initial_points_y2[1:-1]\n",
    "\n",
    "def taper(params = init_params_y):\n",
    "    ''' Defines a taper where the paramaters are the y coordinates of the nodes of a cubic spline. '''\n",
    "    points_x = np.concatenate(([initial_points_x.min()], initial_points_x[1:-1], [initial_points_x.max()]))\n",
    "    points_y = np.concatenate(([initial_points_y[0]], params, [initial_points_y[-1]]))\n",
    "    \n",
    "    polygon_points_x = np.linspace(min(points_x), max(points_x), 100)\n",
    "    interpolator = sp.interpolate.interp1d(points_x, points_y, kind = 'cubic')\n",
    "    polygon_points_y = interpolator(polygon_points_x)\n",
    "    \n",
    "    polygon_points_up = [(x, y) for x, y in zip(polygon_points_x, polygon_points_y)]\n",
    "    polygon_points_down = [(x, -y) for x, y in zip(polygon_points_x, polygon_points_y)]\n",
    "    polygon_points = np.array(polygon_points_up[::-1] + polygon_points_down)\n",
    "    return polygon_points\n",
    "\n",
    "def taper2(params = init_params_y2):\n",
    "    ''' Defines a taper where the paramaters are the y coordinates of the nodes of a cubic spline. '''\n",
    "    points_x = np.concatenate(([initial_points_x2.min()], initial_points_x2[1:-1], [initial_points_x2.max()]))\n",
    "    points_y = np.concatenate(([initial_points_y2[0]], params, [initial_points_y2[-1]]))\n",
    "    \n",
    "    polygon_points_x = np.linspace(min(points_x), max(points_x), 100)\n",
    "    interpolator = sp.interpolate.interp1d(points_x, points_y, kind = 'cubic')\n",
    "    polygon_points_y = interpolator(polygon_points_x)\n",
    "    \n",
    "    polygon_points_up = [(x, y) for x, y in zip(polygon_points_x, polygon_points_y)]\n",
    "    polygon_points_down = [(x, -y) for x, y in zip(polygon_points_x, polygon_points_y)]\n",
    "    polygon_points = np.array(polygon_points_up[::-1] + polygon_points_down)\n",
    "    return polygon_points\n",
    "\n",
    "bounds = [(0.1e-6,0.8e-6)] * len(init_params_y)\n",
    "\n",
    "depth = 220.0e-9\n",
    "taper_polygon = FunctionDefinedPolygon_GL(func = taper, initial_params = init_params_y, bounds = bounds, z = 0.0,depth = depth,eps_out = eps_out, eps_in = eps_in, dx = 2e-9)\n",
    "taper_polygon_symmetry = FunctionDefinedPolygon_GL(func = taper2, initial_params = init_params_y2, bounds = bounds, z = 0.0,depth = depth,eps_out = eps_out, eps_in = eps_in, dx = 2e-9)"
   ]
  },
  {
   "cell_type": "code",
   "execution_count": null,
   "metadata": {},
   "outputs": [],
   "source": [
    "geo = Geometry_GL([taper_polygon, taper_polygon_symmetry, input_wg_poly, output_wg_poly], 'add')"
   ]
  },
  {
   "cell_type": "code",
   "execution_count": null,
   "metadata": {},
   "outputs": [],
   "source": [
    "opt = optimizer3D(geo, base_script)\n",
    "opt.run()"
   ]
  },
  {
   "cell_type": "code",
   "execution_count": 3,
   "metadata": {},
   "outputs": [
    {
     "ename": "",
     "evalue": "",
     "output_type": "error",
     "traceback": [
      "\u001b[1;31mThe Kernel crashed while executing code in the current cell or a previous cell. \n",
      "\u001b[1;31mPlease review the code in the cell(s) to identify a possible cause of the failure. \n",
      "\u001b[1;31mClick <a href='https://aka.ms/vscodeJupyterKernelCrash'>here</a> for more info. \n",
      "\u001b[1;31mView Jupyter <a href='command:jupyter.viewOutput'>log</a> for further details."
     ]
    }
   ],
   "source": [
    "from geometries.SWG_to_strip import SWG_to_strip\n",
    "\n",
    "SWG_finger, base_script = SWG_to_strip(dimension = 2, num_gratings = 20, static_gratings = 3)\n"
   ]
  }
 ],
 "metadata": {
  "kernelspec": {
   "display_name": "last",
   "language": "python",
   "name": "python3"
  },
  "language_info": {
   "codemirror_mode": {
    "name": "ipython",
    "version": 3
   },
   "file_extension": ".py",
   "mimetype": "text/x-python",
   "name": "python",
   "nbconvert_exporter": "python",
   "pygments_lexer": "ipython3",
   "version": "3.9.9"
  }
 },
 "nbformat": 4,
 "nbformat_minor": 2
}
